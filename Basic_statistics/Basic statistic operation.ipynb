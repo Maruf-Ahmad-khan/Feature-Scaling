{
 "cells": [
  {
   "cell_type": "code",
   "execution_count": 1,
   "metadata": {},
   "outputs": [],
   "source": [
    "import pandas as pd\n",
    "import numpy as np\n",
    "import seaborn as sns\n",
    "import matplotlib.pyplot as plt\n"
   ]
  },
  {
   "cell_type": "code",
   "execution_count": null,
   "metadata": {},
   "outputs": [],
   "source": [
    "def Read_Base_Ball_Data(df: pd.DataFrame):\n",
    "     \n",
    "     \"\"\"_summary_\n",
    "        Read the baseball dataset\n",
    "     \"\"\"\n",
    "     try:\n",
    "          data = pd.read_csv(df)\n",
    "          return data\n",
    "     except FileNotFoundError:\n",
    "          raise FileNotFoundError(f\"File is currupted and not found:\")\n",
    "     except Exception as e:\n",
    "          print(f\"Error is occurring: {e}\")\n",
    "          \n",
    "if __name__ == \"__main__\":\n",
    "     df = r\"C:\\Users\\mk744\\OneDrive - Poornima University\\Desktop\\Feature Scaling\\Basic_statistics\\Baseball.csv\"\n",
    "     ans = Read_Base_Ball_Data(df)"
   ]
  },
  {
   "cell_type": "code",
   "execution_count": 3,
   "metadata": {},
   "outputs": [
    {
     "data": {
      "text/html": [
       "<div>\n",
       "<style scoped>\n",
       "    .dataframe tbody tr th:only-of-type {\n",
       "        vertical-align: middle;\n",
       "    }\n",
       "\n",
       "    .dataframe tbody tr th {\n",
       "        vertical-align: top;\n",
       "    }\n",
       "\n",
       "    .dataframe thead th {\n",
       "        text-align: right;\n",
       "    }\n",
       "</style>\n",
       "<table border=\"1\" class=\"dataframe\">\n",
       "  <thead>\n",
       "    <tr style=\"text-align: right;\">\n",
       "      <th></th>\n",
       "      <th>Team</th>\n",
       "      <th>League</th>\n",
       "      <th>Year</th>\n",
       "      <th>RS</th>\n",
       "      <th>RA</th>\n",
       "      <th>W</th>\n",
       "      <th>OBP</th>\n",
       "      <th>SLG</th>\n",
       "      <th>BA</th>\n",
       "      <th>Playoffs</th>\n",
       "      <th>RankSeason</th>\n",
       "      <th>RankPlayoffs</th>\n",
       "      <th>G</th>\n",
       "      <th>OOBP</th>\n",
       "      <th>OSLG</th>\n",
       "    </tr>\n",
       "  </thead>\n",
       "  <tbody>\n",
       "    <tr>\n",
       "      <th>0</th>\n",
       "      <td>ARI</td>\n",
       "      <td>NL</td>\n",
       "      <td>2012</td>\n",
       "      <td>734</td>\n",
       "      <td>688</td>\n",
       "      <td>81</td>\n",
       "      <td>0.328</td>\n",
       "      <td>0.418</td>\n",
       "      <td>0.259</td>\n",
       "      <td>0</td>\n",
       "      <td>NaN</td>\n",
       "      <td>NaN</td>\n",
       "      <td>162</td>\n",
       "      <td>0.317</td>\n",
       "      <td>0.415</td>\n",
       "    </tr>\n",
       "    <tr>\n",
       "      <th>1</th>\n",
       "      <td>ATL</td>\n",
       "      <td>NL</td>\n",
       "      <td>2012</td>\n",
       "      <td>700</td>\n",
       "      <td>600</td>\n",
       "      <td>94</td>\n",
       "      <td>0.320</td>\n",
       "      <td>0.389</td>\n",
       "      <td>0.247</td>\n",
       "      <td>1</td>\n",
       "      <td>4.0</td>\n",
       "      <td>5.0</td>\n",
       "      <td>162</td>\n",
       "      <td>0.306</td>\n",
       "      <td>0.378</td>\n",
       "    </tr>\n",
       "    <tr>\n",
       "      <th>2</th>\n",
       "      <td>BAL</td>\n",
       "      <td>AL</td>\n",
       "      <td>2012</td>\n",
       "      <td>712</td>\n",
       "      <td>705</td>\n",
       "      <td>93</td>\n",
       "      <td>0.311</td>\n",
       "      <td>0.417</td>\n",
       "      <td>0.247</td>\n",
       "      <td>1</td>\n",
       "      <td>5.0</td>\n",
       "      <td>4.0</td>\n",
       "      <td>162</td>\n",
       "      <td>0.315</td>\n",
       "      <td>0.403</td>\n",
       "    </tr>\n",
       "    <tr>\n",
       "      <th>3</th>\n",
       "      <td>BOS</td>\n",
       "      <td>AL</td>\n",
       "      <td>2012</td>\n",
       "      <td>734</td>\n",
       "      <td>806</td>\n",
       "      <td>69</td>\n",
       "      <td>0.315</td>\n",
       "      <td>0.415</td>\n",
       "      <td>0.260</td>\n",
       "      <td>0</td>\n",
       "      <td>NaN</td>\n",
       "      <td>NaN</td>\n",
       "      <td>162</td>\n",
       "      <td>0.331</td>\n",
       "      <td>0.428</td>\n",
       "    </tr>\n",
       "    <tr>\n",
       "      <th>4</th>\n",
       "      <td>CHC</td>\n",
       "      <td>NL</td>\n",
       "      <td>2012</td>\n",
       "      <td>613</td>\n",
       "      <td>759</td>\n",
       "      <td>61</td>\n",
       "      <td>0.302</td>\n",
       "      <td>0.378</td>\n",
       "      <td>0.240</td>\n",
       "      <td>0</td>\n",
       "      <td>NaN</td>\n",
       "      <td>NaN</td>\n",
       "      <td>162</td>\n",
       "      <td>0.335</td>\n",
       "      <td>0.424</td>\n",
       "    </tr>\n",
       "  </tbody>\n",
       "</table>\n",
       "</div>"
      ],
      "text/plain": [
       "  Team League  Year   RS   RA   W    OBP    SLG     BA  Playoffs  RankSeason  \\\n",
       "0  ARI     NL  2012  734  688  81  0.328  0.418  0.259         0         NaN   \n",
       "1  ATL     NL  2012  700  600  94  0.320  0.389  0.247         1         4.0   \n",
       "2  BAL     AL  2012  712  705  93  0.311  0.417  0.247         1         5.0   \n",
       "3  BOS     AL  2012  734  806  69  0.315  0.415  0.260         0         NaN   \n",
       "4  CHC     NL  2012  613  759  61  0.302  0.378  0.240         0         NaN   \n",
       "\n",
       "   RankPlayoffs    G   OOBP   OSLG  \n",
       "0           NaN  162  0.317  0.415  \n",
       "1           5.0  162  0.306  0.378  \n",
       "2           4.0  162  0.315  0.403  \n",
       "3           NaN  162  0.331  0.428  \n",
       "4           NaN  162  0.335  0.424  "
      ]
     },
     "execution_count": 3,
     "metadata": {},
     "output_type": "execute_result"
    }
   ],
   "source": [
    "ans.head()"
   ]
  },
  {
   "cell_type": "markdown",
   "metadata": {},
   "source": [
    "# Mean"
   ]
  },
  {
   "cell_type": "code",
   "execution_count": null,
   "metadata": {},
   "outputs": [
    {
     "name": "stdout",
     "output_type": "stream",
     "text": [
      "The mean of RS Columns is : \n",
      "715\n"
     ]
    }
   ],
   "source": [
    "# Mean of Runs Scored (RS)\n",
    "def Mean_of_Run(ans):\n",
    "     \n",
    "     \"\"\"_summary_\n",
    "          Find the \n",
    "          mean of RS Columns\n",
    "     \"\"\"\n",
    "     try:\n",
    "          return ans['RS'].mean()\n",
    "     except Exception as e:\n",
    "          print(f\"Error is occured: {e}\")\n",
    "     return None\n",
    "               \n",
    "         \n",
    "     \n",
    "Mean = Mean_of_Run(ans)        \n",
    "print(\"The mean of RS Columns is : \")\n",
    "print(int(np.floor(Mean)))\n",
    "     \n",
    "     \n",
    "     "
   ]
  },
  {
   "cell_type": "code",
   "execution_count": null,
   "metadata": {},
   "outputs": [
    {
     "name": "stdout",
     "output_type": "stream",
     "text": [
      "The mean of Arizon team is :\n",
      "742.0\n"
     ]
    }
   ],
   "source": [
    "# Mean of Runs Scored (RS) by the Arizona team (ARI)\n",
    "     \n",
    "def Mean_of_Arizona(ans):\n",
    "          \n",
    "     \"\"\"\n",
    "          Find the mean of\n",
    "          Run Scored by Arizona team \n",
    "          \n",
    "     \"\"\"\n",
    "          \n",
    "     try:\n",
    "          # return ans[ans['Team'] == 'ARI'].RS.mean()\n",
    "          return ans.query(\"Team == 'ARI'\").RS.mean()\n",
    "          # return ans.loc[ans.Team == 'ARI'].RS.mean()  \n",
    "     except Exception as e:\n",
    "          print(f\"Errors in code: {e}\") \n",
    "     \n",
    "\n",
    "Mean_ARI = Mean_of_Arizona(ans)\n",
    "print(\"The mean of Arizon team is :\")\n",
    "print(np.floor(Mean_ARI))"
   ]
  },
  {
   "cell_type": "code",
   "execution_count": null,
   "metadata": {},
   "outputs": [
    {
     "name": "stdout",
     "output_type": "stream",
     "text": [
      "The Run Scored by Arizona team since 2005 is :\n",
      "729.0\n"
     ]
    }
   ],
   "source": [
    "# Mean of Runs Scored (RS) by the Arizona team (ARI) since 2005\n",
    "\n",
    "def Arizon_rs(ans):\n",
    "     \n",
    "     \"\"\"\n",
    "     Find the mean score\n",
    "     by arizona team since\n",
    "     2005\n",
    "     \"\"\"\n",
    "     \n",
    "     try:\n",
    "          return ans[(ans['Team'] == 'ARI') & (ans['Year'] > 2005)]['RS'].mean()\n",
    "     \n",
    "     except Exception as e:\n",
    "          print(f\"The code is incorrect: {e} \")\n",
    "     return None\n",
    "\n",
    "Mean_rs = Arizon_rs(ans)\n",
    "print(\"The Run Scored by Arizona team since 2005 is :\")\n",
    "print(np.floor(Mean_rs))"
   ]
  },
  {
   "cell_type": "code",
   "execution_count": null,
   "metadata": {},
   "outputs": [
    {
     "name": "stdout",
     "output_type": "stream",
     "text": [
      "The mean of Run scored by CHC Team is: \n",
      "728.0\n"
     ]
    }
   ],
   "source": [
    "# What is the mean of RA by CHC untill 2007\n",
    "\n",
    "def Mean_CHC(ans):\n",
    "     \n",
    "     \"\"\"_summary_\n",
    "        Find the mean\n",
    "        of Run Scored\n",
    "        by CHC (Chicago Team)\n",
    "        Until 2007.\n",
    "     \"\"\"\n",
    "     \n",
    "     try:\n",
    "          return ans[(ans['Team'] == 'CHC') & (ans['Year'] < 2007)]['RA'].mean()\n",
    "     except Exception as e:\n",
    "          print(f\"The Error is occurred: {e} \")\n",
    "     return None\n",
    "\n",
    "Chicago_rs = Mean_CHC(ans)\n",
    "print(\"The mean of Run scored by CHC Team is: \")\n",
    "print(np.floor(Chicago_rs))"
   ]
  },
  {
   "cell_type": "markdown",
   "metadata": {},
   "source": [
    "# How to apply Meadian in Python"
   ]
  },
  {
   "cell_type": "code",
   "execution_count": null,
   "metadata": {},
   "outputs": [
    {
     "name": "stdout",
     "output_type": "stream",
     "text": [
      "The medial of Baltimore Team is \n",
      "89.0\n"
     ]
    }
   ],
   "source": [
    "# Median and Mean of Wins (W)\n",
    "# What is the Median of Baltimore Team (BAL) Untill 200\n",
    "\n",
    "def Median_BAL(ans:pd.DataFrame):\n",
    "     \n",
    "     \"\"\"_summary_\n",
    "        Find the \n",
    "        Meadin of \n",
    "        Baltimore Team by 2000\n",
    "     \"\"\"\n",
    "     \n",
    "     try:\n",
    "          return ans[(ans['Team'] == 'BAL') & (ans['Year'] <= 2000)]['W'].median()\n",
    "     except Exception as e:\n",
    "          print(f\"An Error occurred: {e}\")\n",
    "     return None\n",
    "\n",
    "Med_bal = Median_BAL(ans)\n",
    "print(f\"The medial of Baltimore Team is \\n{np.floor(Med_bal)}\")\n",
    "     "
   ]
  },
  {
   "cell_type": "code",
   "execution_count": 9,
   "metadata": {},
   "outputs": [
    {
     "data": {
      "text/html": [
       "<div>\n",
       "<style scoped>\n",
       "    .dataframe tbody tr th:only-of-type {\n",
       "        vertical-align: middle;\n",
       "    }\n",
       "\n",
       "    .dataframe tbody tr th {\n",
       "        vertical-align: top;\n",
       "    }\n",
       "\n",
       "    .dataframe thead th {\n",
       "        text-align: right;\n",
       "    }\n",
       "</style>\n",
       "<table border=\"1\" class=\"dataframe\">\n",
       "  <thead>\n",
       "    <tr style=\"text-align: right;\">\n",
       "      <th></th>\n",
       "      <th>Team</th>\n",
       "      <th>League</th>\n",
       "      <th>Year</th>\n",
       "      <th>RS</th>\n",
       "      <th>RA</th>\n",
       "      <th>W</th>\n",
       "      <th>OBP</th>\n",
       "      <th>SLG</th>\n",
       "      <th>BA</th>\n",
       "      <th>Playoffs</th>\n",
       "      <th>RankSeason</th>\n",
       "      <th>RankPlayoffs</th>\n",
       "      <th>G</th>\n",
       "      <th>OOBP</th>\n",
       "      <th>OSLG</th>\n",
       "    </tr>\n",
       "  </thead>\n",
       "  <tbody>\n",
       "    <tr>\n",
       "      <th>0</th>\n",
       "      <td>ARI</td>\n",
       "      <td>NL</td>\n",
       "      <td>2012</td>\n",
       "      <td>734</td>\n",
       "      <td>688</td>\n",
       "      <td>81</td>\n",
       "      <td>0.328</td>\n",
       "      <td>0.418</td>\n",
       "      <td>0.259</td>\n",
       "      <td>0</td>\n",
       "      <td>NaN</td>\n",
       "      <td>NaN</td>\n",
       "      <td>162</td>\n",
       "      <td>0.317</td>\n",
       "      <td>0.415</td>\n",
       "    </tr>\n",
       "  </tbody>\n",
       "</table>\n",
       "</div>"
      ],
      "text/plain": [
       "  Team League  Year   RS   RA   W    OBP    SLG     BA  Playoffs  RankSeason  \\\n",
       "0  ARI     NL  2012  734  688  81  0.328  0.418  0.259         0         NaN   \n",
       "\n",
       "   RankPlayoffs    G   OOBP   OSLG  \n",
       "0           NaN  162  0.317  0.415  "
      ]
     },
     "execution_count": 9,
     "metadata": {},
     "output_type": "execute_result"
    }
   ],
   "source": [
    "ans.head(1)"
   ]
  },
  {
   "cell_type": "markdown",
   "metadata": {},
   "source": [
    "# Mode"
   ]
  },
  {
   "cell_type": "code",
   "execution_count": 10,
   "metadata": {},
   "outputs": [
    {
     "name": "stdout",
     "output_type": "stream",
     "text": [
      "Mode of OBP During The Year 2010 is \n",
      "0    0.332\n",
      "Name: OBP, dtype: float64\n"
     ]
    }
   ],
   "source": [
    "# Mode of OBP during the Year 2010\n",
    "\n",
    "def Mode_OBP(ans: pd.DataFrame):\n",
    "     \n",
    "     \"\"\"_summary_\n",
    "        Find the mode\n",
    "        of OBP During\n",
    "        the Year of 2010\n",
    "     \"\"\"\n",
    "     try:\n",
    "          return ans[ans['Year'] == 2010]['OBP'].mode()\n",
    "          # return ans.query(\"Year == 2010\")['OBP'].mode()\n",
    "          # return ans.loc[ans.Year == 2010].OBP.mode()\n",
    "     except Exception as e:\n",
    "          print(f\"Errors : {e}\")\n",
    "          \n",
    "Mode_obp = Mode_OBP(ans)\n",
    "print(f\"Mode of OBP During The Year 2010 is \\n{(Mode_obp)}\")\n",
    "     "
   ]
  },
  {
   "cell_type": "markdown",
   "metadata": {},
   "source": [
    "# Pearson Correlation\n",
    "- Description\n",
    "- Measure the Relationship strength.\n",
    "- Between 2 Variables Varies between -1.\n",
    "- 1 and 1 means strong positive relationship.\n",
    "- -1 means strong negative relationship.\n",
    "- 0 indicates no relationship.\n",
    "- Correlation does not imply Causation.\n",
    "- Correlation can only be applicable on Continuous Features."
   ]
  },
  {
   "cell_type": "code",
   "execution_count": 11,
   "metadata": {},
   "outputs": [
    {
     "name": "stdout",
     "output_type": "stream",
     "text": [
      "Your Required Column is given below\n"
     ]
    },
    {
     "data": {
      "text/html": [
       "<div>\n",
       "<style scoped>\n",
       "    .dataframe tbody tr th:only-of-type {\n",
       "        vertical-align: middle;\n",
       "    }\n",
       "\n",
       "    .dataframe tbody tr th {\n",
       "        vertical-align: top;\n",
       "    }\n",
       "\n",
       "    .dataframe thead th {\n",
       "        text-align: right;\n",
       "    }\n",
       "</style>\n",
       "<table border=\"1\" class=\"dataframe\">\n",
       "  <thead>\n",
       "    <tr style=\"text-align: right;\">\n",
       "      <th></th>\n",
       "      <th>RS</th>\n",
       "      <th>RA</th>\n",
       "      <th>W</th>\n",
       "    </tr>\n",
       "  </thead>\n",
       "  <tbody>\n",
       "    <tr>\n",
       "      <th>0</th>\n",
       "      <td>734</td>\n",
       "      <td>688</td>\n",
       "      <td>81</td>\n",
       "    </tr>\n",
       "    <tr>\n",
       "      <th>1</th>\n",
       "      <td>700</td>\n",
       "      <td>600</td>\n",
       "      <td>94</td>\n",
       "    </tr>\n",
       "    <tr>\n",
       "      <th>2</th>\n",
       "      <td>712</td>\n",
       "      <td>705</td>\n",
       "      <td>93</td>\n",
       "    </tr>\n",
       "    <tr>\n",
       "      <th>3</th>\n",
       "      <td>734</td>\n",
       "      <td>806</td>\n",
       "      <td>69</td>\n",
       "    </tr>\n",
       "    <tr>\n",
       "      <th>4</th>\n",
       "      <td>613</td>\n",
       "      <td>759</td>\n",
       "      <td>61</td>\n",
       "    </tr>\n",
       "    <tr>\n",
       "      <th>...</th>\n",
       "      <td>...</td>\n",
       "      <td>...</td>\n",
       "      <td>...</td>\n",
       "    </tr>\n",
       "    <tr>\n",
       "      <th>1227</th>\n",
       "      <td>705</td>\n",
       "      <td>759</td>\n",
       "      <td>81</td>\n",
       "    </tr>\n",
       "    <tr>\n",
       "      <th>1228</th>\n",
       "      <td>706</td>\n",
       "      <td>626</td>\n",
       "      <td>93</td>\n",
       "    </tr>\n",
       "    <tr>\n",
       "      <th>1229</th>\n",
       "      <td>878</td>\n",
       "      <td>690</td>\n",
       "      <td>103</td>\n",
       "    </tr>\n",
       "    <tr>\n",
       "      <th>1230</th>\n",
       "      <td>774</td>\n",
       "      <td>664</td>\n",
       "      <td>84</td>\n",
       "    </tr>\n",
       "    <tr>\n",
       "      <th>1231</th>\n",
       "      <td>599</td>\n",
       "      <td>716</td>\n",
       "      <td>60</td>\n",
       "    </tr>\n",
       "  </tbody>\n",
       "</table>\n",
       "<p>1232 rows × 3 columns</p>\n",
       "</div>"
      ],
      "text/plain": [
       "       RS   RA    W\n",
       "0     734  688   81\n",
       "1     700  600   94\n",
       "2     712  705   93\n",
       "3     734  806   69\n",
       "4     613  759   61\n",
       "...   ...  ...  ...\n",
       "1227  705  759   81\n",
       "1228  706  626   93\n",
       "1229  878  690  103\n",
       "1230  774  664   84\n",
       "1231  599  716   60\n",
       "\n",
       "[1232 rows x 3 columns]"
      ]
     },
     "execution_count": 11,
     "metadata": {},
     "output_type": "execute_result"
    }
   ],
   "source": [
    "# Pick required Columns:\n",
    "\n",
    "def Required_Cols(ans : pd.DataFrame):\n",
    "     \n",
    "     \"\"\"_summary_\n",
    "        Pick 'RS', 'RA'\n",
    "        And 'W' Columns\n",
    "        make a req_cols\n",
    "        DataFrame and \n",
    "        Store them in that\n",
    "        DataFrame\n",
    "     \"\"\"\n",
    "     \n",
    "     try:\n",
    "          req_cols = ans.filter(items=['RS', 'RA', 'W'])\n",
    "          return req_cols\n",
    "     except Exception as e:\n",
    "          raise Exception(f\"Error occurred: {e}\")\n",
    "     \n",
    "\n",
    "req_cols = Required_Cols(ans)\n",
    "print(\"Your Required Column is given below\")\n",
    "req_cols\n",
    "     \n",
    "     "
   ]
  },
  {
   "cell_type": "code",
   "execution_count": 12,
   "metadata": {},
   "outputs": [
    {
     "name": "stdout",
     "output_type": "stream",
     "text": [
      "The Correlation Matrix is given below\n"
     ]
    },
    {
     "data": {
      "text/html": [
       "<div>\n",
       "<style scoped>\n",
       "    .dataframe tbody tr th:only-of-type {\n",
       "        vertical-align: middle;\n",
       "    }\n",
       "\n",
       "    .dataframe tbody tr th {\n",
       "        vertical-align: top;\n",
       "    }\n",
       "\n",
       "    .dataframe thead th {\n",
       "        text-align: right;\n",
       "    }\n",
       "</style>\n",
       "<table border=\"1\" class=\"dataframe\">\n",
       "  <thead>\n",
       "    <tr style=\"text-align: right;\">\n",
       "      <th></th>\n",
       "      <th>RS</th>\n",
       "      <th>RA</th>\n",
       "      <th>W</th>\n",
       "    </tr>\n",
       "  </thead>\n",
       "  <tbody>\n",
       "    <tr>\n",
       "      <th>RS</th>\n",
       "      <td>1.000000</td>\n",
       "      <td>0.380139</td>\n",
       "      <td>0.511745</td>\n",
       "    </tr>\n",
       "    <tr>\n",
       "      <th>RA</th>\n",
       "      <td>0.380139</td>\n",
       "      <td>1.000000</td>\n",
       "      <td>-0.532394</td>\n",
       "    </tr>\n",
       "    <tr>\n",
       "      <th>W</th>\n",
       "      <td>0.511745</td>\n",
       "      <td>-0.532394</td>\n",
       "      <td>1.000000</td>\n",
       "    </tr>\n",
       "  </tbody>\n",
       "</table>\n",
       "</div>"
      ],
      "text/plain": [
       "          RS        RA         W\n",
       "RS  1.000000  0.380139  0.511745\n",
       "RA  0.380139  1.000000 -0.532394\n",
       "W   0.511745 -0.532394  1.000000"
      ]
     },
     "execution_count": 12,
     "metadata": {},
     "output_type": "execute_result"
    }
   ],
   "source": [
    "# Find Correlation Matrix \n",
    "\n",
    "def Corr_Matrix(req_cols : pd.DataFrame):\n",
    "     \n",
    "     \"\"\"_summary_\n",
    "        Find the Correlation\n",
    "        Matrix among 'RS', 'RA'\n",
    "        And 'W' Columns.\n",
    "     \"\"\"\n",
    "     try:\n",
    "          return req_cols.corr()\n",
    "     except TypeError:\n",
    "          print(\"Type Error is showing:\")\n",
    "     except Exception as e:\n",
    "          print(\"An Error is occured: {e}\")\n",
    "          \n",
    "corr_matrix = Corr_Matrix(req_cols)\n",
    "print(\"The Correlation Matrix is given below\")\n",
    "corr_matrix"
   ]
  },
  {
   "cell_type": "code",
   "execution_count": 13,
   "metadata": {},
   "outputs": [
    {
     "data": {
      "image/png": "[encoded data removed]",
      "text/plain": [
       "<Figure size 640x480 with 2 Axes>"
      ]
     },
     "metadata": {},
     "output_type": "display_data"
    }
   ],
   "source": [
    "# Plot the Correlation Heatmap\n",
    "\n",
    "def Heat_Map(req_cols : pd.DataFrame):\n",
    "     \n",
    "     \"\"\"_summary_\n",
    "        Plot a Correlation Heatmap\n",
    "     \"\"\"\n",
    "     \n",
    "     try:\n",
    "          sns.heatmap(data = req_cols.corr(),\n",
    "                      annot = True,\n",
    "                      fmt = '.2g',\n",
    "                      center = 0,\n",
    "                      cmap = 'coolwarm',\n",
    "                      linewidths = 1,\n",
    "                      linecolor = 'black'\n",
    "                      )\n",
    "          plt.show()\n",
    "          \n",
    "     except Exception as e:\n",
    "          raise Exception(\"Visualization is not showing\")\n",
    "     \n",
    "     \n",
    "heat_map = Heat_Map(req_cols)\n",
    "heat_map"
   ]
  },
  {
   "cell_type": "code",
   "execution_count": 14,
   "metadata": {},
   "outputs": [],
   "source": [
    "cols = ans[['OBP', 'SLG','BA']]"
   ]
  },
  {
   "cell_type": "code",
   "execution_count": 18,
   "metadata": {},
   "outputs": [
    {
     "name": "stdout",
     "output_type": "stream",
     "text": [
      "The Given Correlation is\n"
     ]
    },
    {
     "data": {
      "text/html": [
       "<div>\n",
       "<style scoped>\n",
       "    .dataframe tbody tr th:only-of-type {\n",
       "        vertical-align: middle;\n",
       "    }\n",
       "\n",
       "    .dataframe tbody tr th {\n",
       "        vertical-align: top;\n",
       "    }\n",
       "\n",
       "    .dataframe thead th {\n",
       "        text-align: right;\n",
       "    }\n",
       "</style>\n",
       "<table border=\"1\" class=\"dataframe\">\n",
       "  <thead>\n",
       "    <tr style=\"text-align: right;\">\n",
       "      <th></th>\n",
       "      <th>OBP</th>\n",
       "      <th>SLG</th>\n",
       "      <th>BA</th>\n",
       "    </tr>\n",
       "  </thead>\n",
       "  <tbody>\n",
       "    <tr>\n",
       "      <th>OBP</th>\n",
       "      <td>1.000000</td>\n",
       "      <td>0.790910</td>\n",
       "      <td>0.851958</td>\n",
       "    </tr>\n",
       "    <tr>\n",
       "      <th>SLG</th>\n",
       "      <td>0.790910</td>\n",
       "      <td>1.000000</td>\n",
       "      <td>0.790481</td>\n",
       "    </tr>\n",
       "    <tr>\n",
       "      <th>BA</th>\n",
       "      <td>0.851958</td>\n",
       "      <td>0.790481</td>\n",
       "      <td>1.000000</td>\n",
       "    </tr>\n",
       "  </tbody>\n",
       "</table>\n",
       "</div>"
      ],
      "text/plain": [
       "          OBP       SLG        BA\n",
       "OBP  1.000000  0.790910  0.851958\n",
       "SLG  0.790910  1.000000  0.790481\n",
       "BA   0.851958  0.790481  1.000000"
      ]
     },
     "execution_count": 18,
     "metadata": {},
     "output_type": "execute_result"
    }
   ],
   "source": [
    "def Correlation(cols : pd.DataFrame):\n",
    "     \n",
    "     \"\"\"_summary_\n",
    "        Find the \n",
    "        Correlaltion \n",
    "        Matrix on the\n",
    "        Columns 'OBP', 'SLG'\n",
    "        And 'BA'.\n",
    "     \"\"\"\n",
    "     \n",
    "     try:\n",
    "          return cols.corr()\n",
    "     except Exception as e:\n",
    "          print(\"An Error is there\")\n",
    "          \n",
    "          \n",
    "def Visual_Corr(cols : pd.DataFrame):\n",
    "     \n",
    "     \"\"\"_summary_\n",
    "        Show the Corr\n",
    "        On the Heatmap.\n",
    "     \"\"\"\n",
    "     \n",
    "     try:\n",
    "          sns.heatmap(data = cols.corr(),\n",
    "                      annot = True,\n",
    "                      fmt = '.1g',\n",
    "                      center = 1,\n",
    "                      cmap = 'coolwarm',\n",
    "                      linewidths = 1,\n",
    "                      linecolor = 'black'\n",
    "                      )\n",
    "          plt.show()\n",
    "          \n",
    "     except Exception as e:\n",
    "          print(f\"Error: {e}\")\n",
    "          \n",
    "          \n",
    "Cols = Correlation(cols)\n",
    "print(\"The Given Correlation is\")\n",
    "Cols\n",
    "     \n",
    "     "
   ]
  },
  {
   "cell_type": "code",
   "execution_count": 19,
   "metadata": {},
   "outputs": [
    {
     "name": "stdout",
     "output_type": "stream",
     "text": [
      "The Visual on Heat map is\n"
     ]
    },
    {
     "data": {
      "image/png": "[encoded data removed]",
      "text/plain": [
       "<Figure size 640x480 with 2 Axes>"
      ]
     },
     "metadata": {},
     "output_type": "display_data"
    }
   ],
   "source": [
    "print(\"The Visual on Heat map is\")\n",
    "Visual_Corr(cols)"
   ]
  },
  {
   "cell_type": "code",
   "execution_count": null,
   "metadata": {},
   "outputs": [],
   "source": []
  }
 ],
 "metadata": {
  "kernelspec": {
   "display_name": "Python 3",
   "language": "python",
   "name": "python3"
  },
  "language_info": {
   "codemirror_mode": {
    "name": "ipython",
    "version": 3
   },
   "file_extension": ".py",
   "mimetype": "text/x-python",
   "name": "python",
   "nbconvert_exporter": "python",
   "pygments_lexer": "ipython3",
   "version": "3.10.8"
  }
 },
 "nbformat": 4,
 "nbformat_minor": 2
}
